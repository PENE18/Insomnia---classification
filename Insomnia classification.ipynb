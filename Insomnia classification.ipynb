{
 "cells": [
  {
   "cell_type": "markdown",
   "id": "e87b5af4",
   "metadata": {
    "id": "aaaec5ae",
    "papermill": {
     "duration": 0.01557,
     "end_time": "2021-12-03T15:32:51.746305",
     "exception": false,
     "start_time": "2021-12-03T15:32:51.730735",
     "status": "completed"
    },
    "tags": []
   },
   "source": [
    "**<div class=\"alert alert-block alert-warning\"> Insomnia Classification</div>**"
   ]
  },
  {
   "cell_type": "markdown",
   "id": "5fe410ad",
   "metadata": {
    "id": "3a3f2ff3",
    "papermill": {
     "duration": 0.015374,
     "end_time": "2021-12-03T15:32:51.776372",
     "exception": false,
     "start_time": "2021-12-03T15:32:51.760998",
     "status": "completed"
    },
    "tags": []
   },
   "source": [
    "### Data"
   ]
  },
  {
   "cell_type": "code",
   "execution_count": 27,
   "id": "811be6db",
   "metadata": {
    "execution": {
     "iopub.execute_input": "2021-12-03T15:32:51.811874Z",
     "iopub.status.busy": "2021-12-03T15:32:51.810065Z",
     "iopub.status.idle": "2021-12-03T15:32:52.947856Z",
     "shell.execute_reply": "2021-12-03T15:32:52.947148Z"
    },
    "id": "1bd0552c",
    "papermill": {
     "duration": 1.156939,
     "end_time": "2021-12-03T15:32:52.948020",
     "exception": false,
     "start_time": "2021-12-03T15:32:51.791081",
     "status": "completed"
    },
    "tags": []
   },
   "outputs": [],
   "source": [
    "# import libraries\n",
    "\n",
    "import numpy as np \n",
    "import pandas as pd \n",
    "import matplotlib.pyplot as plt \n",
    "import seaborn as sns \n",
    "from sklearn.model_selection import train_test_split"
   ]
  },
  {
   "cell_type": "code",
   "execution_count": 51,
   "id": "a56f5c94",
   "metadata": {
    "execution": {
     "iopub.execute_input": "2021-12-03T15:32:52.981927Z",
     "iopub.status.busy": "2021-12-03T15:32:52.981121Z",
     "iopub.status.idle": "2021-12-03T15:32:53.173392Z",
     "shell.execute_reply": "2021-12-03T15:32:53.172856Z"
    },
    "id": "b276ecfd",
    "papermill": {
     "duration": 0.210963,
     "end_time": "2021-12-03T15:32:53.173537",
     "exception": false,
     "start_time": "2021-12-03T15:32:52.962574",
     "status": "completed"
    },
    "tags": []
   },
   "outputs": [],
   "source": [
    "# download datasets from local files\n",
    "\n",
    "train = pd.read_csv('C:/Users/Mamadou Pene/Documents/TRAIN.csv')\n",
    "test = pd.read_csv('C:/Users/Mamadou Pene/Documents/TEST.csv')\n",
    "sample_submission = pd.read_csv('C:/Users/Mamadou Pene/Documents/idao-2022-bootcamp-insomnia/sample_submission.csv')"
   ]
  },
  {
   "cell_type": "code",
   "execution_count": 29,
   "id": "01d4da66",
   "metadata": {
    "execution": {
     "iopub.execute_input": "2021-12-03T15:32:53.205887Z",
     "iopub.status.busy": "2021-12-03T15:32:53.204998Z",
     "iopub.status.idle": "2021-12-03T15:32:53.226266Z",
     "shell.execute_reply": "2021-12-03T15:32:53.226749Z"
    },
    "id": "6ac51745",
    "papermill": {
     "duration": 0.03894,
     "end_time": "2021-12-03T15:32:53.226907",
     "exception": false,
     "start_time": "2021-12-03T15:32:53.187967",
     "status": "completed"
    },
    "tags": []
   },
   "outputs": [
    {
     "name": "stdout",
     "output_type": "stream",
     "text": [
      "train, test, sample_submission shapes\n",
      "(70000, 13) (30000, 12) (30000, 2)\n"
     ]
    },
    {
     "data": {
      "text/html": [
       "<div>\n",
       "<style scoped>\n",
       "    .dataframe tbody tr th:only-of-type {\n",
       "        vertical-align: middle;\n",
       "    }\n",
       "\n",
       "    .dataframe tbody tr th {\n",
       "        vertical-align: top;\n",
       "    }\n",
       "\n",
       "    .dataframe thead th {\n",
       "        text-align: right;\n",
       "    }\n",
       "</style>\n",
       "<table border=\"1\" class=\"dataframe\">\n",
       "  <thead>\n",
       "    <tr style=\"text-align: right;\">\n",
       "      <th></th>\n",
       "      <th>id</th>\n",
       "      <th>age</th>\n",
       "      <th>weight</th>\n",
       "      <th>height</th>\n",
       "      <th>sex</th>\n",
       "      <th>stress</th>\n",
       "      <th>doctor</th>\n",
       "      <th>sport</th>\n",
       "      <th>pernicious_1</th>\n",
       "      <th>pernicious_2</th>\n",
       "      <th>ubp</th>\n",
       "      <th>lbp</th>\n",
       "      <th>insomnia</th>\n",
       "    </tr>\n",
       "  </thead>\n",
       "  <tbody>\n",
       "    <tr>\n",
       "      <th>0</th>\n",
       "      <td>0</td>\n",
       "      <td>50.357290</td>\n",
       "      <td>62.0</td>\n",
       "      <td>168</td>\n",
       "      <td>2</td>\n",
       "      <td>1</td>\n",
       "      <td>1</td>\n",
       "      <td>1</td>\n",
       "      <td>0</td>\n",
       "      <td>0</td>\n",
       "      <td>110</td>\n",
       "      <td>80</td>\n",
       "      <td>0</td>\n",
       "    </tr>\n",
       "    <tr>\n",
       "      <th>1</th>\n",
       "      <td>1</td>\n",
       "      <td>55.381246</td>\n",
       "      <td>85.0</td>\n",
       "      <td>156</td>\n",
       "      <td>1</td>\n",
       "      <td>3</td>\n",
       "      <td>1</td>\n",
       "      <td>1</td>\n",
       "      <td>0</td>\n",
       "      <td>0</td>\n",
       "      <td>140</td>\n",
       "      <td>90</td>\n",
       "      <td>1</td>\n",
       "    </tr>\n",
       "    <tr>\n",
       "      <th>2</th>\n",
       "      <td>2</td>\n",
       "      <td>51.627652</td>\n",
       "      <td>64.0</td>\n",
       "      <td>165</td>\n",
       "      <td>1</td>\n",
       "      <td>3</td>\n",
       "      <td>1</td>\n",
       "      <td>0</td>\n",
       "      <td>0</td>\n",
       "      <td>0</td>\n",
       "      <td>130</td>\n",
       "      <td>70</td>\n",
       "      <td>1</td>\n",
       "    </tr>\n",
       "    <tr>\n",
       "      <th>3</th>\n",
       "      <td>3</td>\n",
       "      <td>48.249144</td>\n",
       "      <td>82.0</td>\n",
       "      <td>169</td>\n",
       "      <td>2</td>\n",
       "      <td>1</td>\n",
       "      <td>1</td>\n",
       "      <td>1</td>\n",
       "      <td>0</td>\n",
       "      <td>0</td>\n",
       "      <td>150</td>\n",
       "      <td>100</td>\n",
       "      <td>1</td>\n",
       "    </tr>\n",
       "    <tr>\n",
       "      <th>4</th>\n",
       "      <td>4</td>\n",
       "      <td>47.841205</td>\n",
       "      <td>56.0</td>\n",
       "      <td>156</td>\n",
       "      <td>1</td>\n",
       "      <td>1</td>\n",
       "      <td>1</td>\n",
       "      <td>0</td>\n",
       "      <td>0</td>\n",
       "      <td>0</td>\n",
       "      <td>100</td>\n",
       "      <td>60</td>\n",
       "      <td>0</td>\n",
       "    </tr>\n",
       "    <tr>\n",
       "      <th>5</th>\n",
       "      <td>8</td>\n",
       "      <td>59.997262</td>\n",
       "      <td>67.0</td>\n",
       "      <td>151</td>\n",
       "      <td>1</td>\n",
       "      <td>2</td>\n",
       "      <td>2</td>\n",
       "      <td>0</td>\n",
       "      <td>0</td>\n",
       "      <td>0</td>\n",
       "      <td>120</td>\n",
       "      <td>80</td>\n",
       "      <td>0</td>\n",
       "    </tr>\n",
       "    <tr>\n",
       "      <th>6</th>\n",
       "      <td>9</td>\n",
       "      <td>60.542094</td>\n",
       "      <td>93.0</td>\n",
       "      <td>157</td>\n",
       "      <td>1</td>\n",
       "      <td>3</td>\n",
       "      <td>1</td>\n",
       "      <td>1</td>\n",
       "      <td>0</td>\n",
       "      <td>0</td>\n",
       "      <td>130</td>\n",
       "      <td>80</td>\n",
       "      <td>0</td>\n",
       "    </tr>\n",
       "  </tbody>\n",
       "</table>\n",
       "</div>"
      ],
      "text/plain": [
       "   id        age  weight  height  sex  stress  doctor  sport  pernicious_1  \\\n",
       "0   0  50.357290    62.0     168    2       1       1      1             0   \n",
       "1   1  55.381246    85.0     156    1       3       1      1             0   \n",
       "2   2  51.627652    64.0     165    1       3       1      0             0   \n",
       "3   3  48.249144    82.0     169    2       1       1      1             0   \n",
       "4   4  47.841205    56.0     156    1       1       1      0             0   \n",
       "5   8  59.997262    67.0     151    1       2       2      0             0   \n",
       "6   9  60.542094    93.0     157    1       3       1      1             0   \n",
       "\n",
       "   pernicious_2  ubp  lbp  insomnia  \n",
       "0             0  110   80         0  \n",
       "1             0  140   90         1  \n",
       "2             0  130   70         1  \n",
       "3             0  150  100         1  \n",
       "4             0  100   60         0  \n",
       "5             0  120   80         0  \n",
       "6             0  130   80         0  "
      ]
     },
     "execution_count": 29,
     "metadata": {},
     "output_type": "execute_result"
    }
   ],
   "source": [
    "print('train, test, sample_submission shapes')\n",
    "print(train.shape, test.shape, sample_submission.shape)\n",
    "train.head(7)"
   ]
  },
  {
   "cell_type": "code",
   "execution_count": 30,
   "id": "0edc1d72",
   "metadata": {},
   "outputs": [
    {
     "name": "stdout",
     "output_type": "stream",
     "text": [
      "2\n",
      "3\n",
      "3\n",
      "2\n",
      "2\n",
      "2\n"
     ]
    }
   ],
   "source": [
    "print(train.sex.nunique())\n",
    "print(train.stress.nunique())\n",
    "print(train.doctor.nunique())\n",
    "print(train.sport.nunique())\n",
    "print(train.pernicious_1.nunique())\n",
    "print(train.pernicious_2.nunique())"
   ]
  },
  {
   "cell_type": "code",
   "execution_count": 31,
   "id": "3bb04d2c",
   "metadata": {},
   "outputs": [
    {
     "data": {
      "text/plain": [
       "70000"
      ]
     },
     "execution_count": 31,
     "metadata": {},
     "output_type": "execute_result"
    }
   ],
   "source": [
    "train.shape[0]"
   ]
  },
  {
   "cell_type": "markdown",
   "id": "f5aa8420",
   "metadata": {
    "id": "55c0982a",
    "papermill": {
     "duration": 0.014791,
     "end_time": "2021-12-03T15:32:53.256838",
     "exception": false,
     "start_time": "2021-12-03T15:32:53.242047",
     "status": "completed"
    },
    "tags": []
   },
   "source": [
    "### Feature overview "
   ]
  },
  {
   "cell_type": "code",
   "execution_count": 32,
   "id": "bd065b38",
   "metadata": {
    "execution": {
     "iopub.execute_input": "2021-12-03T15:32:53.290096Z",
     "iopub.status.busy": "2021-12-03T15:32:53.289559Z",
     "iopub.status.idle": "2021-12-03T15:32:53.321517Z",
     "shell.execute_reply": "2021-12-03T15:32:53.321916Z"
    },
    "id": "20c0010b",
    "papermill": {
     "duration": 0.050333,
     "end_time": "2021-12-03T15:32:53.322087",
     "exception": false,
     "start_time": "2021-12-03T15:32:53.271754",
     "status": "completed"
    },
    "tags": []
   },
   "outputs": [
    {
     "data": {
      "text/html": [
       "<div>\n",
       "<style scoped>\n",
       "    .dataframe tbody tr th:only-of-type {\n",
       "        vertical-align: middle;\n",
       "    }\n",
       "\n",
       "    .dataframe tbody tr th {\n",
       "        vertical-align: top;\n",
       "    }\n",
       "\n",
       "    .dataframe thead th {\n",
       "        text-align: right;\n",
       "    }\n",
       "</style>\n",
       "<table border=\"1\" class=\"dataframe\">\n",
       "  <thead>\n",
       "    <tr style=\"text-align: right;\">\n",
       "      <th></th>\n",
       "      <th>train_null_share</th>\n",
       "      <th>test_null_share</th>\n",
       "      <th>train_dtypes</th>\n",
       "      <th>train_mean</th>\n",
       "      <th>test_mean</th>\n",
       "    </tr>\n",
       "  </thead>\n",
       "  <tbody>\n",
       "    <tr>\n",
       "      <th>id</th>\n",
       "      <td>0.0</td>\n",
       "      <td>0.000000</td>\n",
       "      <td>int64</td>\n",
       "      <td>49972.419900</td>\n",
       "      <td>50062.686900</td>\n",
       "    </tr>\n",
       "    <tr>\n",
       "      <th>age</th>\n",
       "      <td>0.0</td>\n",
       "      <td>0.000000</td>\n",
       "      <td>float64</td>\n",
       "      <td>53.302850</td>\n",
       "      <td>53.266334</td>\n",
       "    </tr>\n",
       "    <tr>\n",
       "      <th>weight</th>\n",
       "      <td>0.0</td>\n",
       "      <td>0.000000</td>\n",
       "      <td>float64</td>\n",
       "      <td>74.205690</td>\n",
       "      <td>74.120615</td>\n",
       "    </tr>\n",
       "    <tr>\n",
       "      <th>height</th>\n",
       "      <td>0.0</td>\n",
       "      <td>0.000000</td>\n",
       "      <td>int64</td>\n",
       "      <td>164.359229</td>\n",
       "      <td>164.322267</td>\n",
       "    </tr>\n",
       "    <tr>\n",
       "      <th>sex</th>\n",
       "      <td>0.0</td>\n",
       "      <td>0.000000</td>\n",
       "      <td>int64</td>\n",
       "      <td>1.349571</td>\n",
       "      <td>1.353733</td>\n",
       "    </tr>\n",
       "    <tr>\n",
       "      <th>stress</th>\n",
       "      <td>0.0</td>\n",
       "      <td>0.000000</td>\n",
       "      <td>int64</td>\n",
       "      <td>1.366871</td>\n",
       "      <td>1.368033</td>\n",
       "    </tr>\n",
       "    <tr>\n",
       "      <th>doctor</th>\n",
       "      <td>0.0</td>\n",
       "      <td>0.000000</td>\n",
       "      <td>int64</td>\n",
       "      <td>1.226457</td>\n",
       "      <td>1.222700</td>\n",
       "    </tr>\n",
       "    <tr>\n",
       "      <th>sport</th>\n",
       "      <td>0.0</td>\n",
       "      <td>0.096567</td>\n",
       "      <td>int64</td>\n",
       "      <td>0.803729</td>\n",
       "      <td>0.805926</td>\n",
       "    </tr>\n",
       "    <tr>\n",
       "      <th>pernicious_1</th>\n",
       "      <td>0.0</td>\n",
       "      <td>0.101000</td>\n",
       "      <td>int64</td>\n",
       "      <td>0.088129</td>\n",
       "      <td>0.087838</td>\n",
       "    </tr>\n",
       "    <tr>\n",
       "      <th>pernicious_2</th>\n",
       "      <td>0.0</td>\n",
       "      <td>0.101033</td>\n",
       "      <td>int64</td>\n",
       "      <td>0.053771</td>\n",
       "      <td>0.054470</td>\n",
       "    </tr>\n",
       "    <tr>\n",
       "      <th>ubp</th>\n",
       "      <td>0.0</td>\n",
       "      <td>0.000000</td>\n",
       "      <td>int64</td>\n",
       "      <td>128.817286</td>\n",
       "      <td>130.271300</td>\n",
       "    </tr>\n",
       "    <tr>\n",
       "      <th>lbp</th>\n",
       "      <td>0.0</td>\n",
       "      <td>0.000000</td>\n",
       "      <td>int64</td>\n",
       "      <td>96.630414</td>\n",
       "      <td>95.689000</td>\n",
       "    </tr>\n",
       "    <tr>\n",
       "      <th>insomnia</th>\n",
       "      <td>0.0</td>\n",
       "      <td>NaN</td>\n",
       "      <td>int64</td>\n",
       "      <td>0.499700</td>\n",
       "      <td>NaN</td>\n",
       "    </tr>\n",
       "  </tbody>\n",
       "</table>\n",
       "</div>"
      ],
      "text/plain": [
       "              train_null_share  test_null_share train_dtypes    train_mean  \\\n",
       "id                         0.0         0.000000        int64  49972.419900   \n",
       "age                        0.0         0.000000      float64     53.302850   \n",
       "weight                     0.0         0.000000      float64     74.205690   \n",
       "height                     0.0         0.000000        int64    164.359229   \n",
       "sex                        0.0         0.000000        int64      1.349571   \n",
       "stress                     0.0         0.000000        int64      1.366871   \n",
       "doctor                     0.0         0.000000        int64      1.226457   \n",
       "sport                      0.0         0.096567        int64      0.803729   \n",
       "pernicious_1               0.0         0.101000        int64      0.088129   \n",
       "pernicious_2               0.0         0.101033        int64      0.053771   \n",
       "ubp                        0.0         0.000000        int64    128.817286   \n",
       "lbp                        0.0         0.000000        int64     96.630414   \n",
       "insomnia                   0.0              NaN        int64      0.499700   \n",
       "\n",
       "                 test_mean  \n",
       "id            50062.686900  \n",
       "age              53.266334  \n",
       "weight           74.120615  \n",
       "height          164.322267  \n",
       "sex               1.353733  \n",
       "stress            1.368033  \n",
       "doctor            1.222700  \n",
       "sport             0.805926  \n",
       "pernicious_1      0.087838  \n",
       "pernicious_2      0.054470  \n",
       "ubp             130.271300  \n",
       "lbp              95.689000  \n",
       "insomnia               NaN  "
      ]
     },
     "execution_count": 32,
     "metadata": {},
     "output_type": "execute_result"
    }
   ],
   "source": [
    "feat_research = pd.DataFrame(train.isna().sum() / train.shape[0], columns=['train_null_share'])\n",
    "feat_research['test_null_share'] = test.isna().sum() / test.shape[0]\n",
    "feat_research['train_dtypes'] = train.dtypes\n",
    "feat_research['train_mean'] = train.mean()\n",
    "feat_research['test_mean'] = test.mean()\n",
    "\n",
    "feat_research"
   ]
  },
  {
   "cell_type": "code",
   "execution_count": 33,
   "id": "9e49b2ed",
   "metadata": {
    "execution": {
     "iopub.execute_input": "2021-12-03T15:32:53.363338Z",
     "iopub.status.busy": "2021-12-03T15:32:53.362378Z",
     "iopub.status.idle": "2021-12-03T15:32:55.462453Z",
     "shell.execute_reply": "2021-12-03T15:32:55.463331Z"
    },
    "id": "4c463a6a",
    "papermill": {
     "duration": 2.126036,
     "end_time": "2021-12-03T15:32:55.463762",
     "exception": false,
     "start_time": "2021-12-03T15:32:53.337726",
     "status": "completed"
    },
    "tags": []
   },
   "outputs": [
    {
     "data": {
      "image/png": "[encoded data removed]",
      "text/plain": [
       "<Figure size 1080x1800 with 12 Axes>"
      ]
     },
     "metadata": {
      "needs_background": "light"
     },
     "output_type": "display_data"
    }
   ],
   "source": [
    "# data distribution \n",
    "\n",
    "fig, ax = plt.subplots(len(train.columns)-1, 1)\n",
    "fig.set_figheight(25)\n",
    "fig.set_figwidth(15)\n",
    "\n",
    "\n",
    "for i in range(1, len(test.columns)):\n",
    "    feat = train.columns[i]\n",
    "    ax[i-1].hist(train[feat], label=feat+'_train', alpha=0.5, color='blue')\n",
    "    ax[i-1].hist(test[feat], label=feat+'_test', alpha=0.5, color='red')\n",
    "    ax[i-1].legend()\n",
    "\n",
    "plt.show()"
   ]
  },
  {
   "cell_type": "code",
   "execution_count": 34,
   "id": "d4376a76",
   "metadata": {
    "execution": {
     "iopub.execute_input": "2021-12-03T15:32:55.506858Z",
     "iopub.status.busy": "2021-12-03T15:32:55.505731Z",
     "iopub.status.idle": "2021-12-03T15:32:55.863991Z",
     "shell.execute_reply": "2021-12-03T15:32:55.863446Z"
    },
    "id": "366a75b2",
    "papermill": {
     "duration": 0.381463,
     "end_time": "2021-12-03T15:32:55.864124",
     "exception": false,
     "start_time": "2021-12-03T15:32:55.482661",
     "status": "completed"
    },
    "tags": []
   },
   "outputs": [
    {
     "data": {
      "image/png": "[encoded data removed]",
      "text/plain": [
       "<Figure size 432x288 with 2 Axes>"
      ]
     },
     "metadata": {
      "needs_background": "light"
     },
     "output_type": "display_data"
    }
   ],
   "source": [
    "# train correlation matrix \n",
    "\n",
    "sns.heatmap(train.corr())\n",
    "plt.title('train_corr')\n",
    "plt.show()"
   ]
  },
  {
   "cell_type": "code",
   "execution_count": 35,
   "id": "9ea59954",
   "metadata": {
    "execution": {
     "iopub.execute_input": "2021-12-03T15:32:55.906771Z",
     "iopub.status.busy": "2021-12-03T15:32:55.906165Z",
     "iopub.status.idle": "2021-12-03T15:32:56.221470Z",
     "shell.execute_reply": "2021-12-03T15:32:56.221895Z"
    },
    "id": "8f89a939",
    "papermill": {
     "duration": 0.33828,
     "end_time": "2021-12-03T15:32:56.222078",
     "exception": false,
     "start_time": "2021-12-03T15:32:55.883798",
     "status": "completed"
    },
    "tags": []
   },
   "outputs": [
    {
     "data": {
      "image/png": "[encoded data removed]",
      "text/plain": [
       "<Figure size 432x288 with 2 Axes>"
      ]
     },
     "metadata": {
      "needs_background": "light"
     },
     "output_type": "display_data"
    }
   ],
   "source": [
    "# test correlation matrix \n",
    "\n",
    "sns.heatmap(test.corr())\n",
    "plt.title('test_corr')\n",
    "plt.show()"
   ]
  },
  {
   "cell_type": "markdown",
   "id": "d4459034",
   "metadata": {
    "id": "d3c1ae0a",
    "papermill": {
     "duration": 0.019927,
     "end_time": "2021-12-03T15:32:56.262005",
     "exception": false,
     "start_time": "2021-12-03T15:32:56.242078",
     "status": "completed"
    },
    "tags": []
   },
   "source": [
    "### Feature processing"
   ]
  },
  {
   "cell_type": "code",
   "execution_count": 36,
   "id": "81351cf7",
   "metadata": {
    "execution": {
     "iopub.execute_input": "2021-12-03T15:32:56.309088Z",
     "iopub.status.busy": "2021-12-03T15:32:56.308494Z",
     "iopub.status.idle": "2021-12-03T15:32:56.313383Z",
     "shell.execute_reply": "2021-12-03T15:32:56.313896Z"
    },
    "id": "0aa228a8",
    "papermill": {
     "duration": 0.031724,
     "end_time": "2021-12-03T15:32:56.314063",
     "exception": false,
     "start_time": "2021-12-03T15:32:56.282339",
     "status": "completed"
    },
    "tags": []
   },
   "outputs": [],
   "source": [
    "# drop *doctor* (correlated with *stress*, but less corrlatd with target) \n",
    "train = train.drop(columns=['doctor', 'id'])\n",
    "test = test.drop(columns=['doctor', 'id'])"
   ]
  },
  {
   "cell_type": "code",
   "execution_count": 37,
   "id": "ba01e162",
   "metadata": {
    "execution": {
     "iopub.execute_input": "2021-12-03T15:32:56.356812Z",
     "iopub.status.busy": "2021-12-03T15:32:56.356198Z",
     "iopub.status.idle": "2021-12-03T15:32:56.365244Z",
     "shell.execute_reply": "2021-12-03T15:32:56.365702Z"
    },
    "id": "05fdded0",
    "papermill": {
     "duration": 0.031885,
     "end_time": "2021-12-03T15:32:56.365862",
     "exception": false,
     "start_time": "2021-12-03T15:32:56.333977",
     "status": "completed"
    },
    "tags": []
   },
   "outputs": [],
   "source": [
    "# fix nulls \n",
    "\n",
    "# pernicious_1 & pernicious_2 correelate with *sex* a little \n",
    "# so fill nulls with regard to it: \n",
    "# 1 for *sex* == 2 and 0, otherwise \n",
    "pernicious_1_nan_male = np.where((np.isnan(test['pernicious_1']) & (test['sex']==2)), \n",
    "                               1, \n",
    "                               test['pernicious_1'])\n",
    "test['pernicious_1'] = pernicious_1_nan_male\n",
    "test['pernicious_1'] = test['pernicious_1'].fillna(0)\n",
    "\n",
    "pernicious_2_nan_male = np.where((np.isnan(test['pernicious_2']) & (test['sex']==2)), \n",
    "                               1, \n",
    "                               test['pernicious_2'])\n",
    "test['pernicious_2'] = pernicious_2_nan_male\n",
    "test['pernicious_2'] = test['pernicious_2'].fillna(0)\n",
    "\n",
    "# fill in *sport* with median\n",
    "test['sport'] = test['sport'].median()"
   ]
  },
  {
   "cell_type": "code",
   "execution_count": 38,
   "id": "9bd9e624",
   "metadata": {
    "execution": {
     "iopub.execute_input": "2021-12-03T15:32:56.412769Z",
     "iopub.status.busy": "2021-12-03T15:32:56.412145Z",
     "iopub.status.idle": "2021-12-03T15:32:56.431041Z",
     "shell.execute_reply": "2021-12-03T15:32:56.431544Z"
    },
    "id": "b8b5efa8",
    "papermill": {
     "duration": 0.045715,
     "end_time": "2021-12-03T15:32:56.431708",
     "exception": false,
     "start_time": "2021-12-03T15:32:56.385993",
     "status": "completed"
    },
    "tags": []
   },
   "outputs": [],
   "source": [
    "# one-hot-encoding categorical features\n",
    "\n",
    "stress_train_ohe = pd.get_dummies(train['stress'], prefix='stress').drop(columns='stress_3')\n",
    "stress_test_ohe = pd.get_dummies(test['stress'], prefix='stress').drop(columns='stress_3')\n",
    "\n",
    "train = train.drop(columns='stress')\n",
    "test = test.drop(columns='stress')\n",
    "\n",
    "train = train.join(stress_train_ohe)\n",
    "test = test.join(stress_test_ohe)\n"
   ]
  },
  {
   "cell_type": "code",
   "execution_count": 39,
   "id": "16d747ab",
   "metadata": {},
   "outputs": [
    {
     "data": {
      "text/html": [
       "<div>\n",
       "<style scoped>\n",
       "    .dataframe tbody tr th:only-of-type {\n",
       "        vertical-align: middle;\n",
       "    }\n",
       "\n",
       "    .dataframe tbody tr th {\n",
       "        vertical-align: top;\n",
       "    }\n",
       "\n",
       "    .dataframe thead th {\n",
       "        text-align: right;\n",
       "    }\n",
       "</style>\n",
       "<table border=\"1\" class=\"dataframe\">\n",
       "  <thead>\n",
       "    <tr style=\"text-align: right;\">\n",
       "      <th></th>\n",
       "      <th>age</th>\n",
       "      <th>weight</th>\n",
       "      <th>height</th>\n",
       "      <th>sex</th>\n",
       "      <th>sport</th>\n",
       "      <th>pernicious_1</th>\n",
       "      <th>pernicious_2</th>\n",
       "      <th>ubp</th>\n",
       "      <th>lbp</th>\n",
       "      <th>insomnia</th>\n",
       "      <th>stress_1</th>\n",
       "      <th>stress_2</th>\n",
       "    </tr>\n",
       "  </thead>\n",
       "  <tbody>\n",
       "    <tr>\n",
       "      <th>0</th>\n",
       "      <td>50.357290</td>\n",
       "      <td>62.0</td>\n",
       "      <td>168</td>\n",
       "      <td>2</td>\n",
       "      <td>1</td>\n",
       "      <td>0</td>\n",
       "      <td>0</td>\n",
       "      <td>110</td>\n",
       "      <td>80</td>\n",
       "      <td>0</td>\n",
       "      <td>1</td>\n",
       "      <td>0</td>\n",
       "    </tr>\n",
       "    <tr>\n",
       "      <th>1</th>\n",
       "      <td>55.381246</td>\n",
       "      <td>85.0</td>\n",
       "      <td>156</td>\n",
       "      <td>1</td>\n",
       "      <td>1</td>\n",
       "      <td>0</td>\n",
       "      <td>0</td>\n",
       "      <td>140</td>\n",
       "      <td>90</td>\n",
       "      <td>1</td>\n",
       "      <td>0</td>\n",
       "      <td>0</td>\n",
       "    </tr>\n",
       "    <tr>\n",
       "      <th>2</th>\n",
       "      <td>51.627652</td>\n",
       "      <td>64.0</td>\n",
       "      <td>165</td>\n",
       "      <td>1</td>\n",
       "      <td>0</td>\n",
       "      <td>0</td>\n",
       "      <td>0</td>\n",
       "      <td>130</td>\n",
       "      <td>70</td>\n",
       "      <td>1</td>\n",
       "      <td>0</td>\n",
       "      <td>0</td>\n",
       "    </tr>\n",
       "    <tr>\n",
       "      <th>3</th>\n",
       "      <td>48.249144</td>\n",
       "      <td>82.0</td>\n",
       "      <td>169</td>\n",
       "      <td>2</td>\n",
       "      <td>1</td>\n",
       "      <td>0</td>\n",
       "      <td>0</td>\n",
       "      <td>150</td>\n",
       "      <td>100</td>\n",
       "      <td>1</td>\n",
       "      <td>1</td>\n",
       "      <td>0</td>\n",
       "    </tr>\n",
       "    <tr>\n",
       "      <th>4</th>\n",
       "      <td>47.841205</td>\n",
       "      <td>56.0</td>\n",
       "      <td>156</td>\n",
       "      <td>1</td>\n",
       "      <td>0</td>\n",
       "      <td>0</td>\n",
       "      <td>0</td>\n",
       "      <td>100</td>\n",
       "      <td>60</td>\n",
       "      <td>0</td>\n",
       "      <td>1</td>\n",
       "      <td>0</td>\n",
       "    </tr>\n",
       "    <tr>\n",
       "      <th>...</th>\n",
       "      <td>...</td>\n",
       "      <td>...</td>\n",
       "      <td>...</td>\n",
       "      <td>...</td>\n",
       "      <td>...</td>\n",
       "      <td>...</td>\n",
       "      <td>...</td>\n",
       "      <td>...</td>\n",
       "      <td>...</td>\n",
       "      <td>...</td>\n",
       "      <td>...</td>\n",
       "      <td>...</td>\n",
       "    </tr>\n",
       "    <tr>\n",
       "      <th>69995</th>\n",
       "      <td>52.676249</td>\n",
       "      <td>76.0</td>\n",
       "      <td>168</td>\n",
       "      <td>2</td>\n",
       "      <td>1</td>\n",
       "      <td>1</td>\n",
       "      <td>0</td>\n",
       "      <td>120</td>\n",
       "      <td>80</td>\n",
       "      <td>0</td>\n",
       "      <td>1</td>\n",
       "      <td>0</td>\n",
       "    </tr>\n",
       "    <tr>\n",
       "      <th>69996</th>\n",
       "      <td>61.878166</td>\n",
       "      <td>126.0</td>\n",
       "      <td>158</td>\n",
       "      <td>1</td>\n",
       "      <td>1</td>\n",
       "      <td>0</td>\n",
       "      <td>0</td>\n",
       "      <td>140</td>\n",
       "      <td>90</td>\n",
       "      <td>1</td>\n",
       "      <td>0</td>\n",
       "      <td>1</td>\n",
       "    </tr>\n",
       "    <tr>\n",
       "      <th>69997</th>\n",
       "      <td>52.199863</td>\n",
       "      <td>105.0</td>\n",
       "      <td>183</td>\n",
       "      <td>2</td>\n",
       "      <td>0</td>\n",
       "      <td>0</td>\n",
       "      <td>1</td>\n",
       "      <td>180</td>\n",
       "      <td>90</td>\n",
       "      <td>1</td>\n",
       "      <td>0</td>\n",
       "      <td>0</td>\n",
       "    </tr>\n",
       "    <tr>\n",
       "      <th>69998</th>\n",
       "      <td>61.412731</td>\n",
       "      <td>72.0</td>\n",
       "      <td>163</td>\n",
       "      <td>1</td>\n",
       "      <td>0</td>\n",
       "      <td>0</td>\n",
       "      <td>0</td>\n",
       "      <td>135</td>\n",
       "      <td>80</td>\n",
       "      <td>1</td>\n",
       "      <td>1</td>\n",
       "      <td>0</td>\n",
       "    </tr>\n",
       "    <tr>\n",
       "      <th>69999</th>\n",
       "      <td>56.235455</td>\n",
       "      <td>72.0</td>\n",
       "      <td>170</td>\n",
       "      <td>1</td>\n",
       "      <td>1</td>\n",
       "      <td>0</td>\n",
       "      <td>0</td>\n",
       "      <td>120</td>\n",
       "      <td>80</td>\n",
       "      <td>0</td>\n",
       "      <td>0</td>\n",
       "      <td>1</td>\n",
       "    </tr>\n",
       "  </tbody>\n",
       "</table>\n",
       "<p>70000 rows × 12 columns</p>\n",
       "</div>"
      ],
      "text/plain": [
       "             age  weight  height  sex  sport  pernicious_1  pernicious_2  ubp  \\\n",
       "0      50.357290    62.0     168    2      1             0             0  110   \n",
       "1      55.381246    85.0     156    1      1             0             0  140   \n",
       "2      51.627652    64.0     165    1      0             0             0  130   \n",
       "3      48.249144    82.0     169    2      1             0             0  150   \n",
       "4      47.841205    56.0     156    1      0             0             0  100   \n",
       "...          ...     ...     ...  ...    ...           ...           ...  ...   \n",
       "69995  52.676249    76.0     168    2      1             1             0  120   \n",
       "69996  61.878166   126.0     158    1      1             0             0  140   \n",
       "69997  52.199863   105.0     183    2      0             0             1  180   \n",
       "69998  61.412731    72.0     163    1      0             0             0  135   \n",
       "69999  56.235455    72.0     170    1      1             0             0  120   \n",
       "\n",
       "       lbp  insomnia  stress_1  stress_2  \n",
       "0       80         0         1         0  \n",
       "1       90         1         0         0  \n",
       "2       70         1         0         0  \n",
       "3      100         1         1         0  \n",
       "4       60         0         1         0  \n",
       "...    ...       ...       ...       ...  \n",
       "69995   80         0         1         0  \n",
       "69996   90         1         0         1  \n",
       "69997   90         1         0         0  \n",
       "69998   80         1         1         0  \n",
       "69999   80         0         0         1  \n",
       "\n",
       "[70000 rows x 12 columns]"
      ]
     },
     "execution_count": 39,
     "metadata": {},
     "output_type": "execute_result"
    }
   ],
   "source": [
    "train"
   ]
  },
  {
   "cell_type": "code",
   "execution_count": 40,
   "id": "b5ef0b47",
   "metadata": {
    "execution": {
     "iopub.execute_input": "2021-12-03T15:32:56.476828Z",
     "iopub.status.busy": "2021-12-03T15:32:56.474267Z",
     "iopub.status.idle": "2021-12-03T15:32:56.479516Z",
     "shell.execute_reply": "2021-12-03T15:32:56.479918Z"
    },
    "id": "8c39be4c",
    "papermill": {
     "duration": 0.028163,
     "end_time": "2021-12-03T15:32:56.480093",
     "exception": false,
     "start_time": "2021-12-03T15:32:56.451930",
     "status": "completed"
    },
    "tags": []
   },
   "outputs": [
    {
     "data": {
      "text/html": [
       "<div>\n",
       "<style scoped>\n",
       "    .dataframe tbody tr th:only-of-type {\n",
       "        vertical-align: middle;\n",
       "    }\n",
       "\n",
       "    .dataframe tbody tr th {\n",
       "        vertical-align: top;\n",
       "    }\n",
       "\n",
       "    .dataframe thead th {\n",
       "        text-align: right;\n",
       "    }\n",
       "</style>\n",
       "<table border=\"1\" class=\"dataframe\">\n",
       "  <thead>\n",
       "    <tr style=\"text-align: right;\">\n",
       "      <th></th>\n",
       "      <th>age</th>\n",
       "      <th>weight</th>\n",
       "      <th>height</th>\n",
       "      <th>sex</th>\n",
       "      <th>sport</th>\n",
       "      <th>pernicious_1</th>\n",
       "      <th>pernicious_2</th>\n",
       "      <th>ubp</th>\n",
       "      <th>lbp</th>\n",
       "      <th>insomnia</th>\n",
       "      <th>stress_1</th>\n",
       "      <th>stress_2</th>\n",
       "    </tr>\n",
       "  </thead>\n",
       "  <tbody>\n",
       "    <tr>\n",
       "      <th>0</th>\n",
       "      <td>50.357290</td>\n",
       "      <td>62.0</td>\n",
       "      <td>168</td>\n",
       "      <td>1</td>\n",
       "      <td>1</td>\n",
       "      <td>0</td>\n",
       "      <td>0</td>\n",
       "      <td>110</td>\n",
       "      <td>80</td>\n",
       "      <td>0</td>\n",
       "      <td>1</td>\n",
       "      <td>0</td>\n",
       "    </tr>\n",
       "    <tr>\n",
       "      <th>1</th>\n",
       "      <td>55.381246</td>\n",
       "      <td>85.0</td>\n",
       "      <td>156</td>\n",
       "      <td>0</td>\n",
       "      <td>1</td>\n",
       "      <td>0</td>\n",
       "      <td>0</td>\n",
       "      <td>140</td>\n",
       "      <td>90</td>\n",
       "      <td>1</td>\n",
       "      <td>0</td>\n",
       "      <td>0</td>\n",
       "    </tr>\n",
       "    <tr>\n",
       "      <th>2</th>\n",
       "      <td>51.627652</td>\n",
       "      <td>64.0</td>\n",
       "      <td>165</td>\n",
       "      <td>0</td>\n",
       "      <td>0</td>\n",
       "      <td>0</td>\n",
       "      <td>0</td>\n",
       "      <td>130</td>\n",
       "      <td>70</td>\n",
       "      <td>1</td>\n",
       "      <td>0</td>\n",
       "      <td>0</td>\n",
       "    </tr>\n",
       "    <tr>\n",
       "      <th>3</th>\n",
       "      <td>48.249144</td>\n",
       "      <td>82.0</td>\n",
       "      <td>169</td>\n",
       "      <td>1</td>\n",
       "      <td>1</td>\n",
       "      <td>0</td>\n",
       "      <td>0</td>\n",
       "      <td>150</td>\n",
       "      <td>100</td>\n",
       "      <td>1</td>\n",
       "      <td>1</td>\n",
       "      <td>0</td>\n",
       "    </tr>\n",
       "    <tr>\n",
       "      <th>4</th>\n",
       "      <td>47.841205</td>\n",
       "      <td>56.0</td>\n",
       "      <td>156</td>\n",
       "      <td>0</td>\n",
       "      <td>0</td>\n",
       "      <td>0</td>\n",
       "      <td>0</td>\n",
       "      <td>100</td>\n",
       "      <td>60</td>\n",
       "      <td>0</td>\n",
       "      <td>1</td>\n",
       "      <td>0</td>\n",
       "    </tr>\n",
       "    <tr>\n",
       "      <th>...</th>\n",
       "      <td>...</td>\n",
       "      <td>...</td>\n",
       "      <td>...</td>\n",
       "      <td>...</td>\n",
       "      <td>...</td>\n",
       "      <td>...</td>\n",
       "      <td>...</td>\n",
       "      <td>...</td>\n",
       "      <td>...</td>\n",
       "      <td>...</td>\n",
       "      <td>...</td>\n",
       "      <td>...</td>\n",
       "    </tr>\n",
       "    <tr>\n",
       "      <th>69995</th>\n",
       "      <td>52.676249</td>\n",
       "      <td>76.0</td>\n",
       "      <td>168</td>\n",
       "      <td>1</td>\n",
       "      <td>1</td>\n",
       "      <td>1</td>\n",
       "      <td>0</td>\n",
       "      <td>120</td>\n",
       "      <td>80</td>\n",
       "      <td>0</td>\n",
       "      <td>1</td>\n",
       "      <td>0</td>\n",
       "    </tr>\n",
       "    <tr>\n",
       "      <th>69996</th>\n",
       "      <td>61.878166</td>\n",
       "      <td>126.0</td>\n",
       "      <td>158</td>\n",
       "      <td>0</td>\n",
       "      <td>1</td>\n",
       "      <td>0</td>\n",
       "      <td>0</td>\n",
       "      <td>140</td>\n",
       "      <td>90</td>\n",
       "      <td>1</td>\n",
       "      <td>0</td>\n",
       "      <td>1</td>\n",
       "    </tr>\n",
       "    <tr>\n",
       "      <th>69997</th>\n",
       "      <td>52.199863</td>\n",
       "      <td>105.0</td>\n",
       "      <td>183</td>\n",
       "      <td>1</td>\n",
       "      <td>0</td>\n",
       "      <td>0</td>\n",
       "      <td>1</td>\n",
       "      <td>180</td>\n",
       "      <td>90</td>\n",
       "      <td>1</td>\n",
       "      <td>0</td>\n",
       "      <td>0</td>\n",
       "    </tr>\n",
       "    <tr>\n",
       "      <th>69998</th>\n",
       "      <td>61.412731</td>\n",
       "      <td>72.0</td>\n",
       "      <td>163</td>\n",
       "      <td>0</td>\n",
       "      <td>0</td>\n",
       "      <td>0</td>\n",
       "      <td>0</td>\n",
       "      <td>135</td>\n",
       "      <td>80</td>\n",
       "      <td>1</td>\n",
       "      <td>1</td>\n",
       "      <td>0</td>\n",
       "    </tr>\n",
       "    <tr>\n",
       "      <th>69999</th>\n",
       "      <td>56.235455</td>\n",
       "      <td>72.0</td>\n",
       "      <td>170</td>\n",
       "      <td>0</td>\n",
       "      <td>1</td>\n",
       "      <td>0</td>\n",
       "      <td>0</td>\n",
       "      <td>120</td>\n",
       "      <td>80</td>\n",
       "      <td>0</td>\n",
       "      <td>0</td>\n",
       "      <td>1</td>\n",
       "    </tr>\n",
       "  </tbody>\n",
       "</table>\n",
       "<p>70000 rows × 12 columns</p>\n",
       "</div>"
      ],
      "text/plain": [
       "             age  weight  height  sex  sport  pernicious_1  pernicious_2  ubp  \\\n",
       "0      50.357290    62.0     168    1      1             0             0  110   \n",
       "1      55.381246    85.0     156    0      1             0             0  140   \n",
       "2      51.627652    64.0     165    0      0             0             0  130   \n",
       "3      48.249144    82.0     169    1      1             0             0  150   \n",
       "4      47.841205    56.0     156    0      0             0             0  100   \n",
       "...          ...     ...     ...  ...    ...           ...           ...  ...   \n",
       "69995  52.676249    76.0     168    1      1             1             0  120   \n",
       "69996  61.878166   126.0     158    0      1             0             0  140   \n",
       "69997  52.199863   105.0     183    1      0             0             1  180   \n",
       "69998  61.412731    72.0     163    0      0             0             0  135   \n",
       "69999  56.235455    72.0     170    0      1             0             0  120   \n",
       "\n",
       "       lbp  insomnia  stress_1  stress_2  \n",
       "0       80         0         1         0  \n",
       "1       90         1         0         0  \n",
       "2       70         1         0         0  \n",
       "3      100         1         1         0  \n",
       "4       60         0         1         0  \n",
       "...    ...       ...       ...       ...  \n",
       "69995   80         0         1         0  \n",
       "69996   90         1         0         1  \n",
       "69997   90         1         0         0  \n",
       "69998   80         1         1         0  \n",
       "69999   80         0         0         1  \n",
       "\n",
       "[70000 rows x 12 columns]"
      ]
     },
     "execution_count": 40,
     "metadata": {},
     "output_type": "execute_result"
    }
   ],
   "source": [
    "# *sex*: 1/2 -> 0/1\n",
    "\n",
    "train['sex'] -= 1\n",
    "train"
   ]
  },
  {
   "cell_type": "markdown",
   "id": "701573a6",
   "metadata": {
    "id": "43459044",
    "papermill": {
     "duration": 0.019938,
     "end_time": "2021-12-03T15:32:56.520248",
     "exception": false,
     "start_time": "2021-12-03T15:32:56.500310",
     "status": "completed"
    },
    "tags": []
   },
   "source": [
    "### Training pipeline"
   ]
  },
  {
   "cell_type": "code",
   "execution_count": 41,
   "id": "ce825cfa",
   "metadata": {
    "execution": {
     "iopub.execute_input": "2021-12-03T15:32:56.567754Z",
     "iopub.status.busy": "2021-12-03T15:32:56.567157Z",
     "iopub.status.idle": "2021-12-03T15:32:56.583200Z",
     "shell.execute_reply": "2021-12-03T15:32:56.583695Z"
    },
    "id": "911911f2",
    "papermill": {
     "duration": 0.043033,
     "end_time": "2021-12-03T15:32:56.583864",
     "exception": false,
     "start_time": "2021-12-03T15:32:56.540831",
     "status": "completed"
    },
    "tags": []
   },
   "outputs": [],
   "source": [
    "# train-test split \n",
    "\n",
    "X_train, X_val, y_train, y_val = train_test_split(train.drop(columns='insomnia'), \n",
    "                                                  train['insomnia'], \n",
    "                                                  test_size=0.3, \n",
    "                                                  random_state=13)"
   ]
  },
  {
   "cell_type": "code",
   "execution_count": 42,
   "id": "ab90303d",
   "metadata": {
    "execution": {
     "iopub.execute_input": "2021-12-03T15:32:56.630295Z",
     "iopub.status.busy": "2021-12-03T15:32:56.629703Z",
     "iopub.status.idle": "2021-12-03T15:32:56.844446Z",
     "shell.execute_reply": "2021-12-03T15:32:56.845576Z"
    },
    "id": "f867811f",
    "papermill": {
     "duration": 0.241581,
     "end_time": "2021-12-03T15:32:56.845978",
     "exception": false,
     "start_time": "2021-12-03T15:32:56.604397",
     "status": "completed"
    },
    "tags": []
   },
   "outputs": [
    {
     "data": {
      "text/plain": [
       "0.5818027164593126"
      ]
     },
     "execution_count": 42,
     "metadata": {},
     "output_type": "execute_result"
    }
   ],
   "source": [
    "# create pipeline for logistic regression \n",
    "\n",
    "from sklearn.svm import SVC\n",
    "from sklearn.linear_model import LogisticRegression\n",
    "from sklearn.preprocessing import StandardScaler\n",
    "from sklearn.pipeline import Pipeline\n",
    "from sklearn.metrics import log_loss\n",
    "\n",
    "\n",
    "pipe = Pipeline([('scaler', StandardScaler()), \n",
    "                 ('lr', LogisticRegression(random_state=13))])\n",
    "\n",
    "pipe.fit(X_train, y_train)\n",
    "log_loss(y_val, pipe.predict_proba(X_val))"
   ]
  },
  {
   "cell_type": "code",
   "execution_count": 43,
   "id": "443b61dc",
   "metadata": {
    "execution": {
     "iopub.execute_input": "2021-12-03T15:32:56.940418Z",
     "iopub.status.busy": "2021-12-03T15:32:56.939371Z",
     "iopub.status.idle": "2021-12-03T15:32:56.943810Z",
     "shell.execute_reply": "2021-12-03T15:32:56.944551Z"
    },
    "id": "ae52a99f",
    "papermill": {
     "duration": 0.055347,
     "end_time": "2021-12-03T15:32:56.944823",
     "exception": false,
     "start_time": "2021-12-03T15:32:56.889476",
     "status": "completed"
    },
    "tags": []
   },
   "outputs": [],
   "source": [
    "#!pip install catboost"
   ]
  },
  {
   "cell_type": "code",
   "execution_count": 44,
   "id": "7852f79a",
   "metadata": {
    "execution": {
     "iopub.execute_input": "2021-12-03T15:32:56.994595Z",
     "iopub.status.busy": "2021-12-03T15:32:56.994013Z",
     "iopub.status.idle": "2021-12-03T15:33:13.807451Z",
     "shell.execute_reply": "2021-12-03T15:33:13.806889Z"
    },
    "id": "e5fd2382",
    "papermill": {
     "duration": 16.838258,
     "end_time": "2021-12-03T15:33:13.807611",
     "exception": false,
     "start_time": "2021-12-03T15:32:56.969353",
     "status": "completed"
    },
    "tags": []
   },
   "outputs": [
    {
     "data": {
      "text/plain": [
       "0.5465818918864561"
      ]
     },
     "execution_count": 44,
     "metadata": {},
     "output_type": "execute_result"
    }
   ],
   "source": [
    "# create pipeline for catboost classifier\n",
    "\n",
    "from catboost import CatBoostClassifier\n",
    "from sklearn.preprocessing import PolynomialFeatures\n",
    "\n",
    "\n",
    "pipe = Pipeline([('poly', PolynomialFeatures(2)), \n",
    "                  ('scaler', StandardScaler()), \n",
    "                 ('cbr', CatBoostClassifier(silent=True, random_seed=13))])\n",
    "\n",
    "pipe.fit(X_train, y_train)\n",
    "log_loss(y_val, pipe.predict_proba(X_val))"
   ]
  },
  {
   "cell_type": "code",
   "execution_count": 45,
   "id": "9a32bafa",
   "metadata": {
    "execution": {
     "iopub.execute_input": "2021-12-03T15:33:13.857457Z",
     "iopub.status.busy": "2021-12-03T15:33:13.856805Z",
     "iopub.status.idle": "2021-12-03T15:34:02.307383Z",
     "shell.execute_reply": "2021-12-03T15:34:02.307901Z"
    },
    "id": "48821ccb",
    "papermill": {
     "duration": 48.479113,
     "end_time": "2021-12-03T15:34:02.308081",
     "exception": false,
     "start_time": "2021-12-03T15:33:13.828968",
     "status": "completed"
    },
    "tags": []
   },
   "outputs": [
    {
     "name": "stdout",
     "output_type": "stream",
     "text": [
      "best params: {'cbr__depth': 5, 'cbr__iterations': 50}\n",
      "logloss on best model: 0.5439046665192371\n"
     ]
    }
   ],
   "source": [
    "# catboostclassifier gridsearchcv \n",
    "\n",
    "from sklearn.model_selection import GridSearchCV\n",
    "from sklearn.model_selection import KFold\n",
    "\n",
    "\n",
    "pipe = Pipeline([('poly', PolynomialFeatures(1)), \n",
    "                  ('scaler', StandardScaler()), \n",
    "                  ('cbr', CatBoostClassifier(silent=True, random_seed=13, loss_function='Logloss'))])\n",
    "\n",
    "cbr_par = {'cbr__iterations': [20, 50, 100, 250], \n",
    "          'cbr__depth': [3, 5, 7]}\n",
    "cbr = CatBoostClassifier(silent=True)\n",
    "cbr_gscv = GridSearchCV(pipe, cbr_par)\n",
    "cbr_gscv.fit(X_train, y_train)\n",
    "cbr_best = cbr_gscv.best_estimator_\n",
    "\n",
    "print('best params: {}'.format(cbr_gscv.best_params_))\n",
    "print('logloss on best model: {}'.format(log_loss(y_val, cbr_best.predict_proba(X_val))))"
   ]
  },
  {
   "cell_type": "code",
   "execution_count": 46,
   "id": "c11a8e8b",
   "metadata": {
    "execution": {
     "iopub.execute_input": "2021-12-03T15:34:02.354144Z",
     "iopub.status.busy": "2021-12-03T15:34:02.353555Z",
     "iopub.status.idle": "2021-12-03T15:34:02.359664Z",
     "shell.execute_reply": "2021-12-03T15:34:02.360138Z"
    },
    "id": "8883453d",
    "papermill": {
     "duration": 0.030672,
     "end_time": "2021-12-03T15:34:02.360314",
     "exception": false,
     "start_time": "2021-12-03T15:34:02.329642",
     "status": "completed"
    },
    "tags": []
   },
   "outputs": [
    {
     "name": "stdout",
     "output_type": "stream",
     "text": [
      "Index(['age', 'weight', 'height', 'sex', 'sport', 'pernicious_1',\n",
      "       'pernicious_2', 'ubp', 'lbp', 'stress_1', 'stress_2'],\n",
      "      dtype='object')\n"
     ]
    },
    {
     "data": {
      "text/plain": [
       "array([ 0.        , 23.34528544,  7.24904888,  3.06579975,  0.62529292,\n",
       "        2.16774255,  0.92577969,  0.98439361, 38.80558932,  5.42886485,\n",
       "       13.12377726,  4.27842573])"
      ]
     },
     "execution_count": 46,
     "metadata": {},
     "output_type": "execute_result"
    }
   ],
   "source": [
    "# feature importances for best model \n",
    "\n",
    "print(X_train.columns) \n",
    "cbr_best.steps[2][1].feature_importances_"
   ]
  },
  {
   "cell_type": "markdown",
   "id": "6228bc15",
   "metadata": {
    "id": "8e1564a4",
    "papermill": {
     "duration": 0.022126,
     "end_time": "2021-12-03T15:34:02.404486",
     "exception": false,
     "start_time": "2021-12-03T15:34:02.382360",
     "status": "completed"
    },
    "tags": []
   },
   "source": [
    "### Making a submission "
   ]
  },
  {
   "cell_type": "code",
   "execution_count": 47,
   "id": "7afe2666",
   "metadata": {
    "execution": {
     "iopub.execute_input": "2021-12-03T15:34:02.454565Z",
     "iopub.status.busy": "2021-12-03T15:34:02.450626Z",
     "iopub.status.idle": "2021-12-03T15:34:02.756894Z",
     "shell.execute_reply": "2021-12-03T15:34:02.756405Z"
    },
    "id": "741d97ca",
    "papermill": {
     "duration": 0.330729,
     "end_time": "2021-12-03T15:34:02.757026",
     "exception": false,
     "start_time": "2021-12-03T15:34:02.426297",
     "status": "completed"
    },
    "tags": []
   },
   "outputs": [
    {
     "data": {
      "image/png": "[encoded data removed]",
      "text/plain": [
       "<Figure size 432x288 with 1 Axes>"
      ]
     },
     "metadata": {
      "needs_background": "light"
     },
     "output_type": "display_data"
    }
   ],
   "source": [
    "test_pred = cbr_best.predict_proba(test)[:, 1]\n",
    "\n",
    "plt.hist(test_pred)\n",
    "plt.title('test pred distribution')\n",
    "plt.show()"
   ]
  },
  {
   "cell_type": "code",
   "execution_count": 48,
   "id": "9171c837",
   "metadata": {
    "execution": {
     "iopub.execute_input": "2021-12-03T15:34:02.807958Z",
     "iopub.status.busy": "2021-12-03T15:34:02.807362Z",
     "iopub.status.idle": "2021-12-03T15:34:02.817464Z",
     "shell.execute_reply": "2021-12-03T15:34:02.817897Z"
    },
    "id": "81e2051c",
    "papermill": {
     "duration": 0.038293,
     "end_time": "2021-12-03T15:34:02.818068",
     "exception": false,
     "start_time": "2021-12-03T15:34:02.779775",
     "status": "completed"
    },
    "tags": []
   },
   "outputs": [
    {
     "data": {
      "text/html": [
       "<div>\n",
       "<style scoped>\n",
       "    .dataframe tbody tr th:only-of-type {\n",
       "        vertical-align: middle;\n",
       "    }\n",
       "\n",
       "    .dataframe tbody tr th {\n",
       "        vertical-align: top;\n",
       "    }\n",
       "\n",
       "    .dataframe thead th {\n",
       "        text-align: right;\n",
       "    }\n",
       "</style>\n",
       "<table border=\"1\" class=\"dataframe\">\n",
       "  <thead>\n",
       "    <tr style=\"text-align: right;\">\n",
       "      <th></th>\n",
       "      <th>id</th>\n",
       "      <th>insomnia</th>\n",
       "    </tr>\n",
       "  </thead>\n",
       "  <tbody>\n",
       "    <tr>\n",
       "      <th>0</th>\n",
       "      <td>5</td>\n",
       "      <td>0.477405</td>\n",
       "    </tr>\n",
       "    <tr>\n",
       "      <th>1</th>\n",
       "      <td>6</td>\n",
       "      <td>0.487576</td>\n",
       "    </tr>\n",
       "    <tr>\n",
       "      <th>2</th>\n",
       "      <td>7</td>\n",
       "      <td>0.382093</td>\n",
       "    </tr>\n",
       "    <tr>\n",
       "      <th>3</th>\n",
       "      <td>10</td>\n",
       "      <td>0.512238</td>\n",
       "    </tr>\n",
       "    <tr>\n",
       "      <th>4</th>\n",
       "      <td>11</td>\n",
       "      <td>0.221517</td>\n",
       "    </tr>\n",
       "  </tbody>\n",
       "</table>\n",
       "</div>"
      ],
      "text/plain": [
       "   id  insomnia\n",
       "0   5  0.477405\n",
       "1   6  0.487576\n",
       "2   7  0.382093\n",
       "3  10  0.512238\n",
       "4  11  0.221517"
      ]
     },
     "execution_count": 48,
     "metadata": {},
     "output_type": "execute_result"
    }
   ],
   "source": [
    "test_submission = pd.DataFrame(sample_submission['id'])\n",
    "test_submission['insomnia'] = test_pred\n",
    "test_submission.head()"
   ]
  },
  {
   "cell_type": "code",
   "execution_count": 49,
   "id": "bd3320f5",
   "metadata": {
    "execution": {
     "iopub.execute_input": "2021-12-03T15:34:02.870842Z",
     "iopub.status.busy": "2021-12-03T15:34:02.869949Z",
     "iopub.status.idle": "2021-12-03T15:34:02.873710Z",
     "shell.execute_reply": "2021-12-03T15:34:02.873099Z"
    },
    "id": "70a40ddb",
    "papermill": {
     "duration": 0.032233,
     "end_time": "2021-12-03T15:34:02.873849",
     "exception": false,
     "start_time": "2021-12-03T15:34:02.841616",
     "status": "completed"
    },
    "tags": []
   },
   "outputs": [
    {
     "data": {
      "text/plain": [
       "True"
      ]
     },
     "execution_count": 49,
     "metadata": {},
     "output_type": "execute_result"
    }
   ],
   "source": [
    "# check shapes \n",
    "\n",
    "sample_submission.shape == test_submission.shape"
   ]
  },
  {
   "cell_type": "code",
   "execution_count": 50,
   "id": "525023e2",
   "metadata": {
    "execution": {
     "iopub.execute_input": "2021-12-03T15:34:02.929694Z",
     "iopub.status.busy": "2021-12-03T15:34:02.929055Z",
     "iopub.status.idle": "2021-12-03T15:34:02.931432Z",
     "shell.execute_reply": "2021-12-03T15:34:02.931865Z"
    },
    "id": "d623b003",
    "papermill": {
     "duration": 0.034717,
     "end_time": "2021-12-03T15:34:02.932025",
     "exception": false,
     "start_time": "2021-12-03T15:34:02.897308",
     "status": "completed"
    },
    "tags": []
   },
   "outputs": [
    {
     "data": {
      "text/html": [
       "<div>\n",
       "<style scoped>\n",
       "    .dataframe tbody tr th:only-of-type {\n",
       "        vertical-align: middle;\n",
       "    }\n",
       "\n",
       "    .dataframe tbody tr th {\n",
       "        vertical-align: top;\n",
       "    }\n",
       "\n",
       "    .dataframe thead th {\n",
       "        text-align: right;\n",
       "    }\n",
       "</style>\n",
       "<table border=\"1\" class=\"dataframe\">\n",
       "  <thead>\n",
       "    <tr style=\"text-align: right;\">\n",
       "      <th></th>\n",
       "      <th>id</th>\n",
       "      <th>insomnia</th>\n",
       "    </tr>\n",
       "  </thead>\n",
       "  <tbody>\n",
       "    <tr>\n",
       "      <th>0</th>\n",
       "      <td>5</td>\n",
       "      <td>0.5</td>\n",
       "    </tr>\n",
       "    <tr>\n",
       "      <th>1</th>\n",
       "      <td>6</td>\n",
       "      <td>0.5</td>\n",
       "    </tr>\n",
       "    <tr>\n",
       "      <th>2</th>\n",
       "      <td>7</td>\n",
       "      <td>0.5</td>\n",
       "    </tr>\n",
       "    <tr>\n",
       "      <th>3</th>\n",
       "      <td>10</td>\n",
       "      <td>0.5</td>\n",
       "    </tr>\n",
       "    <tr>\n",
       "      <th>4</th>\n",
       "      <td>11</td>\n",
       "      <td>0.5</td>\n",
       "    </tr>\n",
       "  </tbody>\n",
       "</table>\n",
       "</div>"
      ],
      "text/plain": [
       "   id  insomnia\n",
       "0   5       0.5\n",
       "1   6       0.5\n",
       "2   7       0.5\n",
       "3  10       0.5\n",
       "4  11       0.5"
      ]
     },
     "execution_count": 50,
     "metadata": {},
     "output_type": "execute_result"
    }
   ],
   "source": [
    "sample_submission.head()"
   ]
  },
  {
   "cell_type": "code",
   "execution_count": 33,
   "id": "615fda9f",
   "metadata": {
    "execution": {
     "iopub.execute_input": "2021-12-03T15:34:02.983713Z",
     "iopub.status.busy": "2021-12-03T15:34:02.983104Z",
     "iopub.status.idle": "2021-12-03T15:34:03.072656Z",
     "shell.execute_reply": "2021-12-03T15:34:03.073090Z"
    },
    "id": "b2c9f53e",
    "papermill": {
     "duration": 0.117427,
     "end_time": "2021-12-03T15:34:03.073290",
     "exception": false,
     "start_time": "2021-12-03T15:34:02.955863",
     "status": "completed"
    },
    "tags": []
   },
   "outputs": [],
   "source": [
    "test_submission.to_csv('test_submission.csv')"
   ]
  },
  {
   "cell_type": "markdown",
   "id": "82a2a681",
   "metadata": {
    "id": "546f3618",
    "papermill": {
     "duration": 0.023844,
     "end_time": "2021-12-03T15:34:03.120901",
     "exception": false,
     "start_time": "2021-12-03T15:34:03.097057",
     "status": "completed"
    },
    "tags": []
   },
   "source": [
    "### End"
   ]
  }
 ],
 "metadata": {
  "kernelspec": {
   "display_name": "Python 3",
   "language": "python",
   "name": "python3"
  },
  "language_info": {
   "codemirror_mode": {
    "name": "ipython",
    "version": 3
   },
   "file_extension": ".py",
   "mimetype": "text/x-python",
   "name": "python",
   "nbconvert_exporter": "python",
   "pygments_lexer": "ipython3",
   "version": "3.8.8"
  },
  "papermill": {
   "default_parameters": {},
   "duration": 80.626298,
   "end_time": "2021-12-03T15:34:03.855461",
   "environment_variables": {},
   "exception": null,
   "input_path": "__notebook__.ipynb",
   "output_path": "__notebook__.ipynb",
   "parameters": {},
   "start_time": "2021-12-03T15:32:43.229163",
   "version": "2.3.3"
  }
 },
 "nbformat": 4,
 "nbformat_minor": 5
}
